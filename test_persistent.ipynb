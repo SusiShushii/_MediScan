{
 "cells": [
  {
   "cell_type": "code",
   "execution_count": 62,
   "metadata": {},
   "outputs": [],
   "source": [
    "import socket\n",
    "import json\n",
    "\n",
    "sock = socket.socket(socket.AF_INET, socket.SOCK_STREAM)\n",
    "sock.connect((\"localhost\", 5001))\n",
    "\n",
    "def send_command(cmd: dict):\n",
    "    sock.sendall((json.dumps(cmd) + \"\\n\").encode(\"utf-8\"))\n",
    "    data = sock.recv(8192).decode(\"utf-8\")\n",
    "    return json.loads(data)\n",
    "\n"
   ]
  },
  {
   "cell_type": "code",
   "execution_count": 65,
   "metadata": {},
   "outputs": [
    {
     "name": "stdout",
     "output_type": "stream",
     "text": [
      "{'status': 'success', 'data': {'status': 'success', 'message': 'Training results and model copied successfully', 'model_id': 'model_detection_23_04_25_02_26_47', 'train_output_path': 'C:\\\\MedSight_Project\\\\project_001\\\\models\\\\model_detection\\\\training_result', 'model_path': 'C:\\\\MedSight_Project\\\\project_001\\\\models\\\\model_detection\\\\model.pt', 'model_name': 'model_detection', 'validation_metrics': {'cancer': {'precision': 0.9258, 'recall': 0.7388, 'mAP50': 0.9117, 'mAP50-95': 0.5254}}}}\n"
     ]
    }
   ],
   "source": [
    "# ✅ Train\n",
    "print(send_command(\n",
    "    {\n",
    "    \"command\": \"train\",\n",
    "    \"project_id\": \"project_001\",\n",
    "    \"model_name\": \"model_detection\",\n",
    "    \"mode\": \"detect\",\n",
    "    }\n",
    "))"
   ]
  },
  {
   "cell_type": "code",
   "execution_count": null,
   "metadata": {},
   "outputs": [],
   "source": [
    "# ✅ Evaluate\n",
    "print(send_command({\n",
    "    \"command\": \"evaluate\",\n",
    "    \"project_id\": \"project_001\",\n",
    "    \"model_name\": \"model_segment\",\n",
    "}))"
   ]
  },
  {
   "cell_type": "code",
   "execution_count": 59,
   "metadata": {},
   "outputs": [
    {
     "name": "stdout",
     "output_type": "stream",
     "text": [
      "{'status': 'success', 'message': \"Model 'model_segment' deployed successfully\"}\n"
     ]
    }
   ],
   "source": [
    "# ✅ Deploy\n",
    "print(send_command({\n",
    "    \"command\": \"deploy\",\n",
    "    \"project_id\": \"project_001\",\n",
    "    \"model_name\": \"model_segment\"\n",
    "}))"
   ]
  },
  {
   "cell_type": "code",
   "execution_count": 61,
   "metadata": {},
   "outputs": [
    {
     "name": "stdout",
     "output_type": "stream",
     "text": [
      "{'status': 'success', 'data': {'status': 'success', 'message': 'Detection completed.', 'predict_result': 'non-cancer', 'confidence_scores': {'non-cancer': [0.7067005634307861, 0.36250782012939453]}, 'bounding_boxes': [{'class': 'non-cancer', 'confidence': 0.7067005634307861, 'box': {'x1': 267.78167724609375, 'y1': 283.107666015625, 'x2': 340.17498779296875, 'y2': 391.2039794921875}}, {'class': 'non-cancer', 'confidence': 0.36250782012939453, 'box': {'x1': 583.7963256835938, 'y1': 1.1778564453125, 'x2': 639.5014038085938, 'y2': 132.6434326171875}}]}}\n"
     ]
    }
   ],
   "source": [
    "# ✅ Predict\n",
    "print(send_command({\n",
    "    \"command\": \"predict\",\n",
    "    \"project_id\": \"project_001\",\n",
    "    \"image_name\": \"image_001\"\n",
    "}))\n"
   ]
  },
  {
   "cell_type": "code",
   "execution_count": 15,
   "metadata": {},
   "outputs": [],
   "source": [
    "sock.close()"
   ]
  }
 ],
 "metadata": {
  "kernelspec": {
   "display_name": "Python 3",
   "language": "python",
   "name": "python3"
  },
  "language_info": {
   "codemirror_mode": {
    "name": "ipython",
    "version": 3
   },
   "file_extension": ".py",
   "mimetype": "text/x-python",
   "name": "python",
   "nbconvert_exporter": "python",
   "pygments_lexer": "ipython3",
   "version": "3.12.3"
  }
 },
 "nbformat": 4,
 "nbformat_minor": 2
}
