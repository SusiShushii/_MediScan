{
 "cells": [
  {
   "cell_type": "code",
   "execution_count": 12,
   "metadata": {},
   "outputs": [],
   "source": [
    "import socket\n",
    "import json\n",
    "\n",
    "sock = socket.socket(socket.AF_INET, socket.SOCK_STREAM)\n",
    "sock.connect((\"localhost\", 5001))\n",
    "\n",
    "def send_command(cmd: dict):\n",
    "    sock.sendall((json.dumps(cmd) + \"\\n\").encode(\"utf-8\"))\n",
    "    data = sock.recv(8192).decode(\"utf-8\")\n",
    "    return json.loads(data)\n",
    "\n"
   ]
  },
  {
   "cell_type": "code",
   "execution_count": 65,
   "metadata": {},
   "outputs": [
    {
     "name": "stdout",
     "output_type": "stream",
     "text": [
      "{'status': 'success', 'data': {'status': 'success', 'message': 'Training results and model copied successfully', 'model_id': 'model_detection_23_04_25_02_26_47', 'train_output_path': 'C:\\\\MedSight_Project\\\\project_001\\\\models\\\\model_detection\\\\training_result', 'model_path': 'C:\\\\MedSight_Project\\\\project_001\\\\models\\\\model_detection\\\\model.pt', 'model_name': 'model_detection', 'validation_metrics': {'cancer': {'precision': 0.9258, 'recall': 0.7388, 'mAP50': 0.9117, 'mAP50-95': 0.5254}}}}\n"
     ]
    }
   ],
   "source": [
    "# ✅ Train\n",
    "print(send_command(\n",
    "    {\n",
    "    \"command\": \"train\",\n",
    "    \"project_id\": \"project_001\",\n",
    "    \"model_name\": \"model_detection\",\n",
    "    \"mode\": \"detect\",\n",
    "    }\n",
    "))"
   ]
  },
  {
   "cell_type": "code",
   "execution_count": 2,
   "metadata": {},
   "outputs": [
    {
     "name": "stdout",
     "output_type": "stream",
     "text": [
      "{'status': 'success', 'data': {'message': 'YOLO test evaluation completed successfully', 'metrics': {'mAP50': 0.995, 'mAP50-95': 0.818125, 'overall_precision': 1.0, 'overall_recall': 1.0, 'overall_f1_score': 1.0, 'overall_accuracy': 1.0, 'class_details': {'cancer': {'precision': 1.0, 'recall': 1.0, 'f1_score': 1.0, 'accuracy': 1.0}, 'non-cancer': {'precision': 1.0, 'recall': 1.0, 'f1_score': 1.0, 'accuracy': 1.0}}}}}\n"
     ]
    }
   ],
   "source": [
    "# ✅ Evaluate\n",
    "print(send_command({\n",
    "    \"command\": \"evaluate\",\n",
    "    \"project_id\": \"project_001\",\n",
    "    \"model_name\": \"model_segment\",\n",
    "}))"
   ]
  },
  {
   "cell_type": "code",
   "execution_count": 16,
   "metadata": {},
   "outputs": [
    {
     "name": "stdout",
     "output_type": "stream",
     "text": [
      "{'status': 'success', 'message': \"Model 'model_segment' deployed successfully\"}\n"
     ]
    }
   ],
   "source": [
    "# ✅ Deploy\n",
    "print(send_command({\n",
    "    \"command\": \"deploy\",\n",
    "    \"project_id\": \"project_001\",\n",
    "    \"model_name\": \"model_segment\"\n",
    "}))"
   ]
  },
  {
   "cell_type": "code",
   "execution_count": 17,
   "metadata": {},
   "outputs": [
    {
     "name": "stdout",
     "output_type": "stream",
     "text": [
      "{'status': 'success', 'data': {'status': 'success', 'message': 'Detection completed', 'predict_result': 'Not found', 'confidence_scores': {}, 'bounding_boxes': []}}\n"
     ]
    }
   ],
   "source": [
    "# ✅ Predict\n",
    "print(send_command({\n",
    "    \"command\": \"predict\",\n",
    "    \"project_id\": \"project_001\",\n",
    "    \"image_name\": \"fake_image\"\n",
    "}))\n"
   ]
  },
  {
   "cell_type": "code",
   "execution_count": 15,
   "metadata": {},
   "outputs": [],
   "source": [
    "sock.close()"
   ]
  }
 ],
 "metadata": {
  "kernelspec": {
   "display_name": "Python 3",
   "language": "python",
   "name": "python3"
  },
  "language_info": {
   "codemirror_mode": {
    "name": "ipython",
    "version": 3
   },
   "file_extension": ".py",
   "mimetype": "text/x-python",
   "name": "python",
   "nbconvert_exporter": "python",
   "pygments_lexer": "ipython3",
   "version": "3.12.3"
  }
 },
 "nbformat": 4,
 "nbformat_minor": 2
}
